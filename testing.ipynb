{
 "cells": [
  {
   "cell_type": "code",
   "execution_count": 1,
   "metadata": {},
   "outputs": [],
   "source": [
    "import numpy as np\n",
    "import baseRNN\n",
    "from datasets import load_dataset\n",
    "import re\n",
    "%load_ext autoreload\n",
    "%autoreload 2"
   ]
  },
  {
   "cell_type": "markdown",
   "metadata": {},
   "source": [
    "### Dataset"
   ]
  },
  {
   "cell_type": "code",
   "execution_count": 2,
   "metadata": {},
   "outputs": [],
   "source": [
    "# constants\n",
    "START_TOKEN = '<START>'\n",
    "END_TOKEN = '<END>'\n",
    "NUM_SAMPLES = 1000\n",
    "imdbDataset = load_dataset(\"stanfordnlp/imdb\")\n",
    "\n",
    "embeddingsFilepath = '/Users/josep/Desktop/Self/Learning/NLP/RNN/data/glove.6B.300d.txt'\n",
    "\n",
    "# helper functions\n",
    "def read_corpus(dataset):\n",
    "    files = dataset[\"train\"][\"text\"][:NUM_SAMPLES]\n",
    "    return [[START_TOKEN] + [re.sub(r'[^\\w]', '', w.lower()) for w in f.split(\" \")] + [END_TOKEN] for f in files]\n",
    "\n",
    "\n",
    "def embedding_for_vocab(filepath, words, dimensions):\n",
    "    vocab_size = len(words)\n",
    "    embeddings = np.zeros((vocab_size, dimensions))\n",
    "\n",
    "    with open(filepath, encoding=\"utf8\") as f:\n",
    "        for line in f:\n",
    "            word, *vector = line.split()\n",
    "            if word in words.keys():\n",
    "                index = words[word]\n",
    "                embeddings[index] = np.array(vector)[:dimensions]\n",
    "    return embeddings\n",
    "\n",
    "imdbCorpus = read_corpus(imdbDataset)\n",
    "\n",
    "corpusWords = [y for x in imdbCorpus for y in x]\n",
    "corpusWords = list(set(corpusWords))\n",
    "word2ind={}\n",
    "for i in range(len(corpusWords)):\n",
    "    word2ind[corpusWords[i]] = i\n",
    "\n",
    "embeddings = embedding_for_vocab(embeddingsFilepath, word2ind, 300)"
   ]
  },
  {
   "cell_type": "code",
   "execution_count": 3,
   "metadata": {},
   "outputs": [
    {
     "name": "stdout",
     "output_type": "stream",
     "text": [
      "19041\n"
     ]
    }
   ],
   "source": [
    "print(len(corpusWords))"
   ]
  },
  {
   "cell_type": "markdown",
   "metadata": {},
   "source": [
    "### Training"
   ]
  },
  {
   "cell_type": "code",
   "execution_count": null,
   "metadata": {},
   "outputs": [],
   "source": [
    "testRNN = baseRNN.neuralNet(embeddings=embeddings, word2ind=word2ind, outputActivation='softmax',\n",
    "                            hiddenLayerShapes=[100,100,100], hiddenLayerActivations=['relu', 'relu', 'relu'],\n",
    "                            lossFunction='crossEntropyLoss', learningRate=.001, epochs=1,\n",
    "                            adam=True, clipVal=1, debug=False)"
   ]
  },
  {
   "cell_type": "code",
   "execution_count": 8,
   "metadata": {},
   "outputs": [],
   "source": [
    "overfitCorpus = [imdbCorpus[0][0:20]] * 1000"
   ]
  },
  {
   "cell_type": "code",
   "execution_count": 9,
   "metadata": {},
   "outputs": [
    {
     "name": "stdout",
     "output_type": "stream",
     "text": [
      "Text #1 - 290 words\n",
      "Loss: 9.856168698947254\n",
      "********************************************\n",
      "\n",
      "Text #2 - 216 words\n",
      "Loss: 9.85648408507465\n",
      "********************************************\n",
      "\n",
      "Text #3 - 95 words\n",
      "Loss: 9.854251092413904\n",
      "********************************************\n",
      "\n",
      "Text #4 - 120 words\n",
      "Loss: 9.857831921936947\n",
      "********************************************\n",
      "\n",
      "Text #5 - 313 words\n",
      "Loss: 9.855167051484191\n",
      "********************************************\n",
      "\n"
     ]
    },
    {
     "ename": "KeyboardInterrupt",
     "evalue": "",
     "output_type": "error",
     "traceback": [
      "\u001b[1;31m---------------------------------------------------------------------------\u001b[0m",
      "\u001b[1;31mKeyboardInterrupt\u001b[0m                         Traceback (most recent call last)",
      "Cell \u001b[1;32mIn[9], line 1\u001b[0m\n\u001b[1;32m----> 1\u001b[0m testRNN\u001b[38;5;241m.\u001b[39mtrainModel(imdbCorpus)\n",
      "File \u001b[1;32mc:\\Users\\josep\\Desktop\\Self\\Learning\\NLP\\RNN\\baseRNN.py:263\u001b[0m, in \u001b[0;36mneuralNet.trainModel\u001b[1;34m(self, corpus)\u001b[0m\n\u001b[0;32m    260\u001b[0m \u001b[38;5;28mprint\u001b[39m()\n\u001b[0;32m    262\u001b[0m \u001b[38;5;66;03m# backward pass\u001b[39;00m\n\u001b[1;32m--> 263\u001b[0m \u001b[38;5;28mself\u001b[39m\u001b[38;5;241m.\u001b[39mbackwardPass(text)\n",
      "File \u001b[1;32mc:\\Users\\josep\\Desktop\\Self\\Learning\\NLP\\RNN\\baseRNN.py:168\u001b[0m, in \u001b[0;36mneuralNet.backwardPass\u001b[1;34m(self, text)\u001b[0m\n\u001b[0;32m    166\u001b[0m \u001b[38;5;66;03m# dLossdOutputWeights [dLdW] = dZdW [previous layer hidden state output] @ dLdZ [stored during forward pass]\u001b[39;00m\n\u001b[0;32m    167\u001b[0m prevLayerHiddenState \u001b[38;5;241m=\u001b[39m currLayer\u001b[38;5;241m.\u001b[39mprevLayerOutputMemory[timeStep]\n\u001b[1;32m--> 168\u001b[0m dLossdOutputWeights \u001b[38;5;241m=\u001b[39m np\u001b[38;5;241m.\u001b[39mouter(prevLayerHiddenState, dLossdZ)\n\u001b[0;32m    170\u001b[0m \u001b[38;5;66;03m# dLossdOutputBias [dLdB] = dLdZ [stored during forward pass] @ dZdB [1]\u001b[39;00m\n\u001b[0;32m    171\u001b[0m dLossdOutputBias \u001b[38;5;241m=\u001b[39m layerLocalError\n",
      "File \u001b[1;32mc:\\Users\\josep\\anaconda3\\Lib\\site-packages\\numpy\\core\\numeric.py:925\u001b[0m, in \u001b[0;36mouter\u001b[1;34m(a, b, out)\u001b[0m\n\u001b[0;32m    923\u001b[0m a \u001b[38;5;241m=\u001b[39m asarray(a)\n\u001b[0;32m    924\u001b[0m b \u001b[38;5;241m=\u001b[39m asarray(b)\n\u001b[1;32m--> 925\u001b[0m \u001b[38;5;28;01mreturn\u001b[39;00m multiply(a\u001b[38;5;241m.\u001b[39mravel()[:, newaxis], b\u001b[38;5;241m.\u001b[39mravel()[newaxis, :], out)\n",
      "\u001b[1;31mKeyboardInterrupt\u001b[0m: "
     ]
    }
   ],
   "source": [
    "testRNN.trainModel(imdbCorpus)"
   ]
  },
  {
   "cell_type": "code",
   "execution_count": null,
   "metadata": {},
   "outputs": [],
   "source": []
  }
 ],
 "metadata": {
  "kernelspec": {
   "display_name": "base",
   "language": "python",
   "name": "python3"
  },
  "language_info": {
   "codemirror_mode": {
    "name": "ipython",
    "version": 3
   },
   "file_extension": ".py",
   "mimetype": "text/x-python",
   "name": "python",
   "nbconvert_exporter": "python",
   "pygments_lexer": "ipython3",
   "version": "3.12.7"
  }
 },
 "nbformat": 4,
 "nbformat_minor": 2
}
