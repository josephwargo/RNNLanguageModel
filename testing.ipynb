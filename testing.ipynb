{
 "cells": [
  {
   "cell_type": "code",
   "execution_count": 39,
   "metadata": {},
   "outputs": [
    {
     "name": "stdout",
     "output_type": "stream",
     "text": [
      "The autoreload extension is already loaded. To reload it, use:\n",
      "  %reload_ext autoreload\n"
     ]
    }
   ],
   "source": [
    "import numpy as np\n",
    "import baseRNN\n",
    "from datasets import load_dataset\n",
    "import re\n",
    "%load_ext autoreload\n",
    "%autoreload 2"
   ]
  },
  {
   "cell_type": "markdown",
   "metadata": {},
   "source": [
    "### Dataset"
   ]
  },
  {
   "cell_type": "code",
   "execution_count": 33,
   "metadata": {},
   "outputs": [],
   "source": [
    "# constants\n",
    "START_TOKEN = '<START>'\n",
    "END_TOKEN = '<END>'\n",
    "NUM_SAMPLES = 150\n",
    "imdbDataset = load_dataset(\"stanfordnlp/imdb\")\n",
    "\n",
    "embeddingsFilepath = '/Users/josep/Desktop/Self/Learning/NLP/RNN/data/glove.6B.300d.txt'\n",
    "\n",
    "# helper functions\n",
    "def read_corpus(dataset):\n",
    "    files = dataset[\"train\"][\"text\"][:NUM_SAMPLES]\n",
    "    return [[START_TOKEN] + [re.sub(r'[^\\w]', '', w.lower()) for w in f.split(\" \")] + [END_TOKEN] for f in files]\n",
    "\n",
    "\n",
    "def embedding_for_vocab(filepath, words, dimensions):\n",
    "    vocab_size = len(words)\n",
    "    embeddings = np.zeros((vocab_size, dimensions))\n",
    "\n",
    "    with open(filepath, encoding=\"utf8\") as f:\n",
    "        for line in f:\n",
    "            word, *vector = line.split()\n",
    "            if word in words.keys():\n",
    "                index = words[word]\n",
    "                embeddings[index] = np.array(vector)[:dimensions]\n",
    "    return embeddings\n",
    "\n",
    "imdbCorpus = read_corpus(imdbDataset)\n",
    "\n",
    "corpusWords = [y for x in imdbCorpus for y in x]\n",
    "corpusWords = list(set(corpusWords))\n",
    "word2ind={}\n",
    "for i in range(len(corpusWords)):\n",
    "    word2ind[corpusWords[i]] = i\n",
    "\n",
    "embeddings = embedding_for_vocab(embeddingsFilepath, word2ind, 300)"
   ]
  },
  {
   "cell_type": "markdown",
   "metadata": {},
   "source": [
    "### Training"
   ]
  },
  {
   "cell_type": "code",
   "execution_count": 43,
   "metadata": {},
   "outputs": [],
   "source": [
    "testRNN = baseRNN.neuralNet(embeddings, imdbCorpus, word2ind, 'softmax', [100,100,100], ['relu', 'relu', 'relu'],\n",
    "                               lossFunction='crossEntropyLoss', learningRate=.001, epochs=1, adam=False, debug=False)"
   ]
  },
  {
   "cell_type": "code",
   "execution_count": 44,
   "metadata": {},
   "outputs": [
    {
     "data": {
      "text/plain": [
       "(100, 100)"
      ]
     },
     "execution_count": 44,
     "metadata": {},
     "output_type": "execute_result"
    }
   ],
   "source": [
    "testRNN.layers['hiddenLayer1'].timeW.shape"
   ]
  },
  {
   "cell_type": "code",
   "execution_count": 45,
   "metadata": {},
   "outputs": [
    {
     "ename": "AttributeError",
     "evalue": "module 'costsAndActivations' has no attribute 'dCdZ'",
     "output_type": "error",
     "traceback": [
      "\u001b[1;31m---------------------------------------------------------------------------\u001b[0m",
      "\u001b[1;31mAttributeError\u001b[0m                            Traceback (most recent call last)",
      "Cell \u001b[1;32mIn[45], line 1\u001b[0m\n\u001b[1;32m----> 1\u001b[0m testRNN\u001b[38;5;241m.\u001b[39mforwardPass(imdbCorpus[\u001b[38;5;241m2\u001b[39m])\n",
      "File \u001b[1;32mc:\\Users\\josep\\Desktop\\Self\\Learning\\NLP\\RNN\\baseRNN.py:81\u001b[0m, in \u001b[0;36mneuralNet.forwardPass\u001b[1;34m(self, text)\u001b[0m\n\u001b[0;32m     79\u001b[0m \u001b[38;5;28;01mif\u001b[39;00m \u001b[38;5;28mself\u001b[39m\u001b[38;5;241m.\u001b[39mlossFunction \u001b[38;5;241m==\u001b[39m \u001b[38;5;124m'\u001b[39m\u001b[38;5;124mcrossEntropyLoss\u001b[39m\u001b[38;5;124m'\u001b[39m:\n\u001b[0;32m     80\u001b[0m     localLoss\u001b[38;5;241m.\u001b[39mappend(caa\u001b[38;5;241m.\u001b[39mcrossEntropyLoss(outputOneHot, layer\u001b[38;5;241m.\u001b[39mN))\n\u001b[1;32m---> 81\u001b[0m     \u001b[38;5;28mself\u001b[39m\u001b[38;5;241m.\u001b[39mlossGradients\u001b[38;5;241m.\u001b[39mappend(caa\u001b[38;5;241m.\u001b[39mdCdZ(outputOneHot, layer\u001b[38;5;241m.\u001b[39mN))\n\u001b[0;32m     82\u001b[0m \u001b[38;5;28;01melse\u001b[39;00m:\n\u001b[0;32m     83\u001b[0m     \u001b[38;5;28;01mraise\u001b[39;00m \u001b[38;5;167;01mException\u001b[39;00m(\u001b[38;5;124m'\u001b[39m\u001b[38;5;124mUnknown cost function\u001b[39m\u001b[38;5;124m'\u001b[39m)\n",
      "\u001b[1;31mAttributeError\u001b[0m: module 'costsAndActivations' has no attribute 'dCdZ'"
     ]
    }
   ],
   "source": [
    "testRNN.forwardPass(imdbCorpus[2])"
   ]
  },
  {
   "cell_type": "code",
   "execution_count": 46,
   "metadata": {},
   "outputs": [
    {
     "data": {
      "text/plain": [
       "95"
      ]
     },
     "execution_count": 46,
     "metadata": {},
     "output_type": "execute_result"
    }
   ],
   "source": [
    "len(testRNN.layers['hiddenLayer1'].NMemory)\n",
    "len(testRNN.lossGradients)\n",
    "len(imdbCorpus[2])"
   ]
  },
  {
   "cell_type": "code",
   "execution_count": 9,
   "metadata": {},
   "outputs": [
    {
     "name": "stdout",
     "output_type": "stream",
     "text": [
      "8.67785373246444\n",
      "8.677853732464436\n"
     ]
    }
   ],
   "source": [
    "# testRNN.layers['hiddenLayer3'].timeW.shape\n",
    "print(np.mean(testRNN.losses))\n",
    "print(testRNN.loss)\n",
    "# max(testRNN.allLayers['outputLayer'].N)"
   ]
  },
  {
   "cell_type": "code",
   "execution_count": 18,
   "metadata": {},
   "outputs": [],
   "source": [
    "# # separating into train and test\n",
    "# propTrain = .75\n",
    "# numTrain = round(propTrain * len(images))\n",
    "# numTest = round((1-propTrain) * len(images))\n",
    "\n",
    "# trainImages = images[:numTrain]\n",
    "# trainLabels = labels[:numTrain]\n",
    "# trainEncodedLabels = encodedLabels[:numTrain]\n",
    "\n",
    "# testImages = images[numTrain:]\n",
    "# testLabels = labels[numTrain:]\n",
    "# testEncodedLabels = encodedLabels[numTrain:]"
   ]
  }
 ],
 "metadata": {
  "kernelspec": {
   "display_name": "base",
   "language": "python",
   "name": "python3"
  },
  "language_info": {
   "codemirror_mode": {
    "name": "ipython",
    "version": 3
   },
   "file_extension": ".py",
   "mimetype": "text/x-python",
   "name": "python",
   "nbconvert_exporter": "python",
   "pygments_lexer": "ipython3",
   "version": "3.12.7"
  }
 },
 "nbformat": 4,
 "nbformat_minor": 2
}
