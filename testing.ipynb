{
 "cells": [
  {
   "cell_type": "code",
   "execution_count": 2,
   "metadata": {},
   "outputs": [
    {
     "name": "stderr",
     "output_type": "stream",
     "text": [
      "/opt/anaconda3/envs/workspace/lib/python3.12/site-packages/tqdm/auto.py:21: TqdmWarning: IProgress not found. Please update jupyter and ipywidgets. See https://ipywidgets.readthedocs.io/en/stable/user_install.html\n",
      "  from .autonotebook import tqdm as notebook_tqdm\n"
     ]
    }
   ],
   "source": [
    "import numpy as np\n",
    "import baseRNN\n",
    "from datasets import load_dataset\n",
    "import re"
   ]
  },
  {
   "cell_type": "markdown",
   "metadata": {},
   "source": [
    "### Dataset"
   ]
  },
  {
   "cell_type": "code",
   "execution_count": 3,
   "metadata": {},
   "outputs": [],
   "source": [
    "# constants\n",
    "START_TOKEN = '<START>'\n",
    "END_TOKEN = '<END>'\n",
    "NUM_SAMPLES = 150\n",
    "imdbDataset = load_dataset(\"stanfordnlp/imdb\")\n",
    "\n",
    "embeddingsFilepath = '/Users/josephwargo/Desktop/Self/Learning/NLP/data/glove.6B.300d.txt'\n",
    "\n",
    "# helper functions\n",
    "def read_corpus(dataset):\n",
    "    files = dataset[\"train\"][\"text\"][:NUM_SAMPLES]\n",
    "    return [[START_TOKEN] + [re.sub(r'[^\\w]', '', w.lower()) for w in f.split(\" \")] + [END_TOKEN] for f in files]\n",
    "\n",
    "\n",
    "def embedding_for_vocab(filepath, words, dimensions):\n",
    "    vocab_size = len(words)\n",
    "    embeddings = np.zeros((vocab_size, dimensions))\n",
    "\n",
    "    with open(filepath, encoding=\"utf8\") as f:\n",
    "        for line in f:\n",
    "            word, *vector = line.split()\n",
    "            if word in words.keys():\n",
    "                index = words[word]\n",
    "                embeddings[index] = np.array(vector)[:dimensions]\n",
    "    return embeddings\n",
    "\n",
    "imdbCorpus = read_corpus(imdbDataset)\n",
    "\n",
    "corpusWords = [y for x in imdbCorpus for y in x]\n",
    "corpusWords = list(set(corpusWords))\n",
    "word2ind={}\n",
    "for i in range(len(corpusWords)):\n",
    "    word2ind[corpusWords[i]] = i\n",
    "\n",
    "embeddings = embedding_for_vocab(embeddingsFilepath, word2ind, 300)"
   ]
  },
  {
   "cell_type": "markdown",
   "metadata": {},
   "source": [
    "### Training"
   ]
  },
  {
   "cell_type": "code",
   "execution_count": 4,
   "metadata": {},
   "outputs": [],
   "source": [
    "testRNN = baseRNN.neuralNet(embeddings, imdbCorpus, word2ind, 'softmax', [100,100,100], ['relu', 'relu', 'relu'],\n",
    "                               lossFunction='crossEntropyLoss', learningRate=.001, epochs=1, adam=False, debug=False)"
   ]
  },
  {
   "cell_type": "code",
   "execution_count": 5,
   "metadata": {},
   "outputs": [
    {
     "data": {
      "text/plain": [
       "95"
      ]
     },
     "execution_count": 5,
     "metadata": {},
     "output_type": "execute_result"
    }
   ],
   "source": [
    "len(imdbCorpus[2])"
   ]
  },
  {
   "cell_type": "code",
   "execution_count": 6,
   "metadata": {},
   "outputs": [],
   "source": [
    "# testRNN.forwardPass(imdbCorpus[2])"
   ]
  },
  {
   "cell_type": "code",
   "execution_count": 8,
   "metadata": {},
   "outputs": [
    {
     "data": {
      "text/plain": [
       "(100,)"
      ]
     },
     "execution_count": 8,
     "metadata": {},
     "output_type": "execute_result"
    }
   ],
   "source": [
    "# testRNN.embeddingsShape\n",
    "testRNN.allLayers['hiddenLayer1'].N.shape"
   ]
  },
  {
   "cell_type": "code",
   "execution_count": 18,
   "metadata": {},
   "outputs": [],
   "source": [
    "# # separating into train and test\n",
    "# propTrain = .75\n",
    "# numTrain = round(propTrain * len(images))\n",
    "# numTest = round((1-propTrain) * len(images))\n",
    "\n",
    "# trainImages = images[:numTrain]\n",
    "# trainLabels = labels[:numTrain]\n",
    "# trainEncodedLabels = encodedLabels[:numTrain]\n",
    "\n",
    "# testImages = images[numTrain:]\n",
    "# testLabels = labels[numTrain:]\n",
    "# testEncodedLabels = encodedLabels[numTrain:]"
   ]
  }
 ],
 "metadata": {
  "kernelspec": {
   "display_name": "workspace",
   "language": "python",
   "name": "python3"
  },
  "language_info": {
   "codemirror_mode": {
    "name": "ipython",
    "version": 3
   },
   "file_extension": ".py",
   "mimetype": "text/x-python",
   "name": "python",
   "nbconvert_exporter": "python",
   "pygments_lexer": "ipython3",
   "version": "3.12.4"
  }
 },
 "nbformat": 4,
 "nbformat_minor": 2
}
